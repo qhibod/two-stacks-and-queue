{
  "nbformat": 4,
  "nbformat_minor": 0,
  "metadata": {
    "colab": {
      "name": "MynewColabwork.ipynb",
      "provenance": [],
      "authorship_tag": "ABX9TyM9konq3uUfWVztcy1r3hp+",
      "include_colab_link": true
    },
    "kernelspec": {
      "name": "python3",
      "display_name": "Python 3"
    }
  },
  "cells": [
    {
      "cell_type": "markdown",
      "metadata": {
        "id": "view-in-github",
        "colab_type": "text"
      },
      "source": [
        "<a href=\"https://colab.research.google.com/github/qhibod/two-stacks-and-queue/blob/master/MyfirstColabwork.ipynb\" target=\"_parent\"><img src=\"https://colab.research.google.com/assets/colab-badge.svg\" alt=\"Open In Colab\"/></a>"
      ]
    },
    {
      "cell_type": "code",
      "metadata": {
        "id": "T1zmT7nTVyvN",
        "colab_type": "code",
        "colab": {
          "base_uri": "https://localhost:8080/",
          "height": 34
        },
        "outputId": "8e812347-08a1-41ce-a1db-ec08171efb11"
      },
      "source": [
        "import time\n",
        "print (time.ctime())"
      ],
      "execution_count": 1,
      "outputs": [
        {
          "output_type": "stream",
          "text": [
            "Wed Jul  8 21:39:12 2020\n"
          ],
          "name": "stdout"
        }
      ]
    },
    {
      "cell_type": "code",
      "metadata": {
        "id": "simy-bH2XFu5",
        "colab_type": "code",
        "colab": {
          "base_uri": "https://localhost:8080/",
          "height": 34
        },
        "outputId": "66456462-e4f6-4a8a-82ae-dd6dff467786"
      },
      "source": [
        "time.sleep(10)\n",
        "print (time.ctime())"
      ],
      "execution_count": 2,
      "outputs": [
        {
          "output_type": "stream",
          "text": [
            "Wed Jul  8 21:39:22 2020\n"
          ],
          "name": "stdout"
        }
      ]
    },
    {
      "cell_type": "code",
      "metadata": {
        "id": "8UZWMqtyXvzQ",
        "colab_type": "code",
        "colab": {
          "base_uri": "https://localhost:8080/",
          "height": 34
        },
        "outputId": "d69559cd-ef4c-46fb-f9bd-3f08d6ccf2f0"
      },
      "source": [
        "print (\"Qhibod is coming on board\")"
      ],
      "execution_count": 3,
      "outputs": [
        {
          "output_type": "stream",
          "text": [
            "Qhibod is coming on board\n"
          ],
          "name": "stdout"
        }
      ]
    },
    {
      "cell_type": "code",
      "metadata": {
        "id": "2B70fjxCX6nt",
        "colab_type": "code",
        "colab": {
          "base_uri": "https://localhost:8080/",
          "height": 34
        },
        "outputId": "780be81b-b56d-4560-8fda-f8319657bae0"
      },
      "source": [
        "a=\"Qhibod, the aspiring Data scientist\"\n",
        "print (a)"
      ],
      "execution_count": 5,
      "outputs": [
        {
          "output_type": "stream",
          "text": [
            "Qhibod, the aspiring Data scientist\n"
          ],
          "name": "stdout"
        }
      ]
    }
  ]
}